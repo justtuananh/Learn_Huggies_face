{
  "nbformat": 4,
  "nbformat_minor": 0,
  "metadata": {
    "colab": {
      "provenance": [],
      "authorship_tag": "ABX9TyNdXRJ9eYfnUb9PMWjxQ8wT",
      "include_colab_link": true
    },
    "kernelspec": {
      "name": "python3",
      "display_name": "Python 3"
    },
    "language_info": {
      "name": "python"
    }
  },
  "cells": [
    {
      "cell_type": "markdown",
      "metadata": {
        "id": "view-in-github",
        "colab_type": "text"
      },
      "source": [
        "<a href=\"https://colab.research.google.com/github/justtuananh/Learn_Huggies_face/blob/main/fine_tune.ipynb\" target=\"_parent\"><img src=\"https://colab.research.google.com/assets/colab-badge.svg\" alt=\"Open In Colab\"/></a>"
      ]
    },
    {
      "cell_type": "code",
      "execution_count": null,
      "metadata": {
        "id": "qQXcAqZFnlAq"
      },
      "outputs": [],
      "source": [
        "!pip install transformers "
      ]
    },
    {
      "cell_type": "code",
      "source": [],
      "metadata": {
        "id": "p_G3Lo0mnsOT"
      },
      "execution_count": null,
      "outputs": []
    }
  ]
}