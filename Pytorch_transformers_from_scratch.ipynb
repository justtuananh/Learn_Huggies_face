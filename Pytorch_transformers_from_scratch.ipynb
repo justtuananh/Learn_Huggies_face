{
  "nbformat": 4,
  "nbformat_minor": 0,
  "metadata": {
    "colab": {
      "provenance": [],
      "authorship_tag": "ABX9TyOPuKl9Si4ShnWS6HmQ7t+y",
      "include_colab_link": true
    },
    "kernelspec": {
      "name": "python3",
      "display_name": "Python 3"
    },
    "language_info": {
      "name": "python"
    }
  },
  "cells": [
    {
      "cell_type": "markdown",
      "metadata": {
        "id": "view-in-github",
        "colab_type": "text"
      },
      "source": [
        "<a href=\"https://colab.research.google.com/github/justtuananh/Learn_Huggies_face/blob/main/Pytorch_transformers_from_scratch.ipynb\" target=\"_parent\"><img src=\"https://colab.research.google.com/assets/colab-badge.svg\" alt=\"Open In Colab\"/></a>"
      ]
    },
    {
      "cell_type": "code",
      "execution_count": 1,
      "metadata": {
        "colab": {
          "base_uri": "https://localhost:8080/"
        },
        "id": "RW__5QDpMHN6",
        "outputId": "b58e135d-8f7e-4065-cacc-cc8b41a5ef6c"
      },
      "outputs": [
        {
          "output_type": "stream",
          "name": "stdout",
          "text": [
            "Mounted at /content/gdrive\n"
          ]
        }
      ],
      "source": [
        " from google.colab import drive \n",
        " drive.mount(\"/content/gdrive\")"
      ]
    },
    {
      "cell_type": "code",
      "source": [
        "cd \"/content/gdrive/MyDrive/AI4TUAN/buildBert \""
      ],
      "metadata": {
        "colab": {
          "base_uri": "https://localhost:8080/"
        },
        "id": "PQ2T-7YRMNbZ",
        "outputId": "68bf5d47-cba2-4a76-8ffa-4413e685effc"
      },
      "execution_count": 2,
      "outputs": [
        {
          "output_type": "stream",
          "name": "stdout",
          "text": [
            "/content/gdrive/MyDrive/AI4TUAN/buildBert \n"
          ]
        }
      ]
    },
    {
      "cell_type": "code",
      "source": [
        "from torch.types import Device\n",
        "import torch \n",
        "import torch.nn as nn\n",
        "\n",
        "class SelfAttention(nn.Module): \n",
        "    def __init__(self, embed_size, heads): \n",
        "        super(SelfAttention, self).__init__()\n",
        "        self.embed_size = embed_size \n",
        "        self.heads = heads \n",
        "        self.head_dim = embed_size // heads \n",
        "\n",
        "        assert (self.head_dim * heads == embed_size), \"embed size needs to be div by heads\"\n",
        "\n",
        "        self.values = nn.Linear(self.head_dim, self.head_dim, bias=False) \n",
        "        self.keys = nn.Linear(self.head_dim, self.head_dim, bias=False)\n",
        "        self.queries = nn.Linear(self.head_dim, self.head_dim, bias=False)\n",
        "        self.fc_out = nn.Linear(heads*self.head_dim, embed_size)\n",
        "    \n",
        "    def forward(self, values, keys, query, mask): \n",
        "        N = query.shape[0]\n",
        "        value_len, key_len, query_len = values.shape[1], keys.shape[1], query.shape[1]\n",
        "\n",
        "        # split embedding into self.heads pieces \n",
        "        values = values.reshape(N, value_len, self.heads, self.head_dim)\n",
        "        keys = keys.reshape(N, key_len, self.heads, self.head_dim)\n",
        "        queries = query.reshape(N, key_len, self.heads, self.head_dim)\n",
        "\n",
        "        energy = torch.einsum(\"nqhd, nkhd->nhqk\", [queries, keys]) \n",
        "        # queries shape: ( N, query_len, heads, heads_dim)\n",
        "        # keys shape: (N, key_len, heads, heads_dim)\n",
        "        # energy shape: (N, heads, query_len, key_len)\n",
        "\n",
        "        if mask is not None: \n",
        "            energy = energy.masked_fill(mask == 0, float(\"-1e20\"))\n",
        "        \n",
        "        attention = torch.softmax(energy / ( self.embed_size **(1/2)), dim=3)\n",
        "\n",
        "        out = torch.einsum(\"nhql, nlhd->nqhd\", [attention, values]).reshape(\n",
        "            N, query_len, self.heads*self.head_dim\n",
        "        )\n",
        "        # attention shape: (N, heads, query_len, key_len)\n",
        "        # values shape: (N, values_len, heads, heads_dim)\n",
        "        # after einsum (N, query_len, heads, head_dim) then flatten last two dimensions \n",
        "\n",
        "        out = self.fc_out(out)\n",
        "        return out \n",
        "\n",
        "class TransformerBlock(nn.Module): \n",
        "    def __init__(self, embed_size, heads, dropout, foward_expansion): \n",
        "        super(TransformerBlock, self).__init___()\n",
        "        self.attention = SelfAttention( embed_size, heads)\n",
        "        self.norm1 = nn.LayerNorm(embed_size)\n",
        "        self.norm2 = nn.LayerNorm(embed_size)\n",
        "\n",
        "\n",
        "        self.feed_forward = nn.Sequential(\n",
        "            nn.Linear(embed_size, forward_expansion*embed_size), \n",
        "            nn.ReLU(), \n",
        "            nn.Linear(forward_expansion*embed_size, embed_size)\n",
        "        )\n",
        "        self.droupout = nn.Droupout(dropout)\n",
        "\n",
        "    def forward(self, value, key, query, mask): \n",
        "        attention = self.attention(value, key, query, mask)\n",
        "\n",
        "        x = self.droupout(self.norm1(attention + query))\n",
        "        forward = self.feed_foward(x)\n",
        "        out = self.droupout(self.norm2(forward + x))\n",
        "        return out\n",
        "\n",
        "class Encoder(nn.Module): \n",
        "    def __init__(\n",
        "        self, \n",
        "        src_vocab_size, \n",
        "        embed_size, \n",
        "        num_layers, \n",
        "        heads, \n",
        "        device, \n",
        "        forward_expansion, \n",
        "        dropout, \n",
        "        max_length, \n",
        "\n",
        "    ): \n",
        "        super(Encoder, self).__init__()\n",
        "        self.embed_size = embed_size\n",
        "        self.devide = Device \n",
        "        self.word_embedding = nn.Embedding(src_vocab_size, embed_size)\n",
        "        self.position_embedding = nn.Embedding(max_length, embed_size)\n",
        "\n",
        "        self.layers = nn.ModuleList(\n",
        "            [\n",
        "                TransformerBlock(\n",
        "                    embed_size, \n",
        "                    heads, \n",
        "                    dropout=dropout, \n",
        "                    foward_expansion=forward_expansion,\n",
        "                )\n",
        "            ]\n",
        "        )\n",
        "        self.dropout = nn.Dropout(dropout)\n",
        "    \n",
        "    def forward(self, x, mask): \n",
        "        N, seq_length = x.shape \n",
        "        positions = torch.arange(0, seq_length).expand(N, seq_length).to(self.device)\n",
        "\n",
        "        out = self.dropout(self.word_embedding(x) + self.position_embedding(positions))\n",
        "\n",
        "        for layer in self.layer: \n",
        "            out = layer(out, out, out, mask)\n",
        "        \n",
        "        return out \n",
        "\n",
        "\n",
        "\n",
        "\n",
        "\n",
        "\n",
        "\n",
        "\n",
        "\n",
        "\n",
        "\n",
        "\n",
        "\n",
        "\n",
        "\n",
        "\n",
        "\n",
        "\n",
        "\n",
        "\n"
      ],
      "metadata": {
        "id": "Y5NxJCi-MRQZ"
      },
      "execution_count": 4,
      "outputs": []
    }
  ]
}